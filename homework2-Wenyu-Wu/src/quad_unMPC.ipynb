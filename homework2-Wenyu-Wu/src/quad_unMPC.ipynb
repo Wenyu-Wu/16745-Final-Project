{
 "cells": [
  {
   "cell_type": "code",
   "execution_count": 115,
   "id": "078d6985",
   "metadata": {},
   "outputs": [
    {
     "name": "stderr",
     "output_type": "stream",
     "text": [
      "\u001b[32m\u001b[1m  Activating\u001b[22m\u001b[39m environment at `D:\\Study_material\\Grad_Courses\\16745\\HW2\\homework2-Wenyu-Wu\\Project.toml`\n"
     ]
    }
   ],
   "source": [
    "import Pkg; Pkg.activate(joinpath(@__DIR__,\"..\")); Pkg.instantiate()\n",
    "# Pkg.add(\"BlockDiagonals\")\n",
    "# Pkg.add(\"TrajOptPlots\")\n",
    "using OSQP\n",
    "using Plots\n",
    "using SparseArrays\n",
    "using LinearAlgebra\n",
    "using TrajOptPlots\n",
    "using MeshCat\n",
    "using StaticArrays\n",
    "using RobotZoo:Quadrotor\n",
    "using RobotZoo\n",
    "using RobotDynamics\n",
    "using ForwardDiff\n",
    "using BlockDiagonals\n",
    "using ControlSystems"
   ]
  },
  {
   "cell_type": "code",
   "execution_count": 2,
   "id": "fb4f07f1",
   "metadata": {},
   "outputs": [
    {
     "data": {
      "text/plain": [
       "qtorp (generic function with 1 method)"
      ]
     },
     "execution_count": 2,
     "metadata": {},
     "output_type": "execute_result"
    }
   ],
   "source": [
    "#Quaternion stuff\n",
    "function hat(v)\n",
    "    return [0 -v[3] v[2];\n",
    "            v[3] 0 -v[1];\n",
    "            -v[2] v[1] 0]\n",
    "end\n",
    "function L(q)\n",
    "    s = q[1]\n",
    "    v = q[2:4]\n",
    "    L = [s    -v';\n",
    "         v  s*I+hat(v)]\n",
    "    return L\n",
    "end\n",
    "T = Diagonal([1; -ones(3)])\n",
    "H = [zeros(1,3); I]\n",
    "function qtoQ(q)\n",
    "    return H'*T*L(q)*T*L(q)*H\n",
    "end\n",
    "function G(q)\n",
    "    G = L(q)*H\n",
    "end\n",
    "function rptoq(ϕ)\n",
    "    (1/sqrt(1+ϕ'*ϕ))*[1; ϕ]\n",
    "end\n",
    "function qtorp(q)\n",
    "    q[2:4]/q[1]\n",
    "end"
   ]
  },
  {
   "cell_type": "code",
   "execution_count": 3,
   "id": "15df3860",
   "metadata": {},
   "outputs": [],
   "source": [
    "#Quadrotor parameters\n",
    "mass = 0.5\n",
    "ℓ = 0.1750\n",
    "J = Diagonal([0.0023, 0.0023, 0.004])\n",
    "g = 9.81\n",
    "kt=1.0\n",
    "km=0.0245\n",
    "\n",
    "h = 0.05 #20 Hz\n",
    "\n",
    "Nx = 13     # number of states (quaternion)\n",
    "Nx̃ = 12     # number of states (linearized)\n",
    "Nu = 4     # number of controls\n",
    "Tfinal = 5.0 # final time\n",
    "Nt = Int(Tfinal/h)+1    # number of time steps\n",
    "thist = Array(range(0,h*(Nt-1), step=h));"
   ]
  },
  {
   "cell_type": "code",
   "execution_count": 4,
   "id": "e237dcc4",
   "metadata": {},
   "outputs": [],
   "source": [
    "model = Quadrotor()\n",
    "const n = Nx̃\n",
    "# const n = Nx\n",
    "const m = Nu\n",
    "const dt = 0.1  # time step (s)\n",
    "const tf = 25   # time horizon (s)\n",
    "# const N = Int(tf / dt) + 1;"
   ]
  },
  {
   "cell_type": "code",
   "execution_count": 5,
   "id": "ddf404d0",
   "metadata": {},
   "outputs": [
    {
     "data": {
      "text/plain": [
       "E (generic function with 1 method)"
      ]
     },
     "execution_count": 5,
     "metadata": {},
     "output_type": "execute_result"
    }
   ],
   "source": [
    "function E(q)\n",
    "    E = BlockDiagonal([1.0*I(3), G(q), 1.0*I(6)])\n",
    "end"
   ]
  },
  {
   "cell_type": "code",
   "execution_count": 6,
   "id": "ff67bd13",
   "metadata": {},
   "outputs": [
    {
     "data": {
      "text/plain": [
       "quad_dynamics (generic function with 1 method)"
      ]
     },
     "execution_count": 6,
     "metadata": {},
     "output_type": "execute_result"
    }
   ],
   "source": [
    "function quad_dynamics(x,u)\n",
    "    r = x[1:3]\n",
    "    q = x[4:7]\n",
    "    v = x[8:10]\n",
    "    ω = x[11:13]\n",
    "    Q = qtoQ(q)\n",
    "    \n",
    "    ṙ = Q*v\n",
    "    q̇ = 0.5*L(q)*H*ω\n",
    "    \n",
    "    v̇ = Q'*[0; 0; -g] + (1/mass)*[zeros(2,4); kt*ones(1,4)]*u - hat(ω)*v\n",
    "    \n",
    "    ω̇ = J\\(-hat(ω)*J*ω + [0 ℓ*kt 0 -ℓ*kt; -ℓ*kt 0 ℓ*kt 0; km -km km -km]*u)\n",
    "    \n",
    "    return [ṙ; q̇; v̇; ω̇]\n",
    "end"
   ]
  },
  {
   "cell_type": "code",
   "execution_count": 7,
   "id": "b91130a4",
   "metadata": {},
   "outputs": [
    {
     "data": {
      "text/plain": [
       "quad_dynamics_rk4 (generic function with 1 method)"
      ]
     },
     "execution_count": 7,
     "metadata": {},
     "output_type": "execute_result"
    }
   ],
   "source": [
    "function quad_dynamics_rk4(x,u)\n",
    "    #RK4 integration with zero-order hold on u\n",
    "    f1 = quad_dynamics(x, u)\n",
    "    f2 = quad_dynamics(x + 0.5*h*f1, u)\n",
    "    f3 = quad_dynamics(x + 0.5*h*f2, u)\n",
    "    f4 = quad_dynamics(x + h*f3, u)\n",
    "    xn = x + (h/6.0)*(f1 + 2*f2 + 2*f3 + f4)\n",
    "    xn[4:7] .= xn[4:7]/norm(xn[4:7]) #re-normalize quaternion\n",
    "    return xn\n",
    "end"
   ]
  },
  {
   "cell_type": "code",
   "execution_count": 8,
   "id": "6a878a5b",
   "metadata": {},
   "outputs": [],
   "source": [
    "#Initial Conditions\n",
    "uhover = (mass*g/4)*ones(4)\n",
    "r0 = [0.0; 0; 1.0]\n",
    "q0 = [1.0; 0; 0; 0]\n",
    "v0 = zeros(3)\n",
    "ω0 = zeros(3)\n",
    "x0 = [r0; q0; v0; ω0];\n",
    "# linearize around hover state\n",
    "xeq = x0\n",
    "ueq = uhover;"
   ]
  },
  {
   "cell_type": "code",
   "execution_count": 9,
   "id": "f0069042",
   "metadata": {},
   "outputs": [],
   "source": [
    "#Linearize dynamics about hover\n",
    "A = ForwardDiff.jacobian(x->quad_dynamics_rk4(x,uhover),x0)\n",
    "B = ForwardDiff.jacobian(u->quad_dynamics_rk4(x0,u),uhover);"
   ]
  },
  {
   "cell_type": "code",
   "execution_count": 10,
   "id": "2df09e41",
   "metadata": {},
   "outputs": [],
   "source": [
    "#Reduced system\n",
    "Ã = Array(E(q0)'*A*E(q0))\n",
    "B̃ = Array(E(q0)'*B);"
   ]
  },
  {
   "cell_type": "code",
   "execution_count": 11,
   "id": "36ce7f7b",
   "metadata": {},
   "outputs": [],
   "source": [
    "# Cost weights\n",
    "Q = Array(I(Nx̃));\n",
    "R = Array(.1*I(Nu));"
   ]
  },
  {
   "cell_type": "code",
   "execution_count": 12,
   "id": "19be0447",
   "metadata": {},
   "outputs": [
    {
     "data": {
      "text/plain": [
       "nominal_trajectory (generic function with 1 method)"
      ]
     },
     "execution_count": 12,
     "metadata": {},
     "output_type": "execute_result"
    }
   ],
   "source": [
    "function nominal_trajectory(x0,N,dt)\n",
    "    Xref = [fill(0.0, length(x0)) for k = 1:N]\n",
    "    dx = x0[1]/(N-1)\n",
    "    dy = x0[2]/(N-1)\n",
    "    dz = x0[3]/(N-1)\n",
    "    # TODO: Design a trajectory that linearly interpolates from x0 to the origin\n",
    "    for i = 1:length(Xref)\n",
    "        Xref[i][1] = x0[1] - (dx*(i-1))\n",
    "        Xref[i][2] = x0[2] - (dy*(i-1))\n",
    "        Xref[i][3] = x0[3] - (dz*(i-1))\n",
    "        Xref[i][4] = 1.0\n",
    "        Xref[i][8] = -dx/dt\n",
    "        Xref[i][9] = -dy/dt\n",
    "        Xref[i][10] = -dz/dt\n",
    "    end\n",
    "    Xref[end][8] = 0.0\n",
    "    Xref[end][9] = 0.0\n",
    "    Xref[end][10] = 0.0\n",
    "#     return SVector{8}.(Xref)\n",
    "    return Xref\n",
    "end"
   ]
  },
  {
   "cell_type": "code",
   "execution_count": 50,
   "id": "38927bb8",
   "metadata": {},
   "outputs": [
    {
     "data": {
      "text/plain": [
       "report_trajectory (generic function with 1 method)"
      ]
     },
     "execution_count": 50,
     "metadata": {},
     "output_type": "execute_result"
    }
   ],
   "source": [
    "function report_trajectory(x0,N,dt)\n",
    "    xorigin = [0.0,0.0,-1.0]\n",
    "    Xref = [fill(0.0, length(x0)) for k = 1:N]\n",
    "    dx = x0[1]/(N-1)\n",
    "    dy = x0[2]/(N-1)\n",
    "    dz = (x0[3]-xorigin[3])/(N-1)\n",
    "    # TODO: Design a trajectory that linearly interpolates from x0 to the origin\n",
    "    for i = 1:length(Xref)\n",
    "        Xref[i][1] = x0[1] - (dx*(i-1))\n",
    "        Xref[i][2] = x0[2] - (dy*(i-1))\n",
    "        Xref[i][3] = x0[3] - (dz*(i-1))\n",
    "        Xref[i][4] = 1.0\n",
    "        Xref[i][8] = -dx/dt\n",
    "        Xref[i][9] = -dy/dt\n",
    "        Xref[i][10] = -dz/dt\n",
    "    end\n",
    "    Xref[1][8:10] .= 0.0\n",
    "    Xref[end][8] = 0.0\n",
    "    Xref[end][9] = 0.0\n",
    "    Xref[end][10] = 0.0\n",
    "#     return SVector{8}.(Xref)\n",
    "    return Xref\n",
    "end"
   ]
  },
  {
   "cell_type": "code",
   "execution_count": 127,
   "id": "9983de47",
   "metadata": {},
   "outputs": [
    {
     "name": "stdout",
     "output_type": "stream",
     "text": [
      "[0.0, 0.0, 0.0, 1.0, 0.0, 0.0, 0.0, 0.0, 0.0, 0.0, 0.0, 0.0, 0.0]\n",
      "[0.0, 0.0, -1.0, 1.0, 0.0, 0.0, 0.0, 0.0, 0.0, 0.0, 0.0, 0.0, 0.0]\n"
     ]
    }
   ],
   "source": [
    "unit_ref = zeros(size(x0))\n",
    "unit_ref[1:4] .= 1.0\n",
    "x0_ref = unit_ref + x0\n",
    "Xref = nominal_trajectory(x0_ref,Nt,h)\n",
    "Uref = [copy(uhover) for k = 1:Nt]\n",
    "tref = range(0,Tfinal,length=Nt);\n",
    "Xref[end][8:10] .= 0.0\n",
    "Xref[1][8:10] .= 0.0\n",
    "\n",
    "Xreport = report_trajectory(x0_ref,Nt,h)\n",
    "Ureport = [copy(uhover) for k = 1:Nt]\n",
    "println(Xref[end])\n",
    "println(Xreport[end])"
   ]
  },
  {
   "cell_type": "code",
   "execution_count": 14,
   "id": "bef97e3c",
   "metadata": {},
   "outputs": [
    {
     "data": {
      "text/plain": [
       "lqr"
      ]
     },
     "execution_count": 14,
     "metadata": {},
     "output_type": "execute_result"
    }
   ],
   "source": [
    "struct LQRController\n",
    "    K::Matrix{Float64}\n",
    "    Xref::Vector{Vector{Float64}}\n",
    "    Uref::Vector{Vector{Float64}}\n",
    "    times::Vector{Float64}\n",
    "end\n",
    "\n",
    "\"\"\"\n",
    "    get_k(ctrl, t)\n",
    "\n",
    "Get the time index corresponding to time `t`. \n",
    "Useful for implementing zero-order hold control.\n",
    "Uses binary search to find the time index.\n",
    "\"\"\"\n",
    "get_k(controller, t) = searchsortedlast(controller.times, t)\n",
    "\n",
    "\"\"\"\n",
    "    get_control(ctrl, x, t)\n",
    "\n",
    "Evaluate the LQR feedback policy at state `x` and time `t`, returning the control \n",
    "to be executed by the system.\n",
    "\"\"\"\n",
    "function get_control(ctrl::LQRController, x, t)\n",
    "    k = get_k(ctrl, t)\n",
    "    x0 = ctrl.Xref[k]\n",
    "    # TODO: Implement the control policy\n",
    "    # SOLUTION\n",
    "    q0 = x0[4:7]\n",
    "    q = x[4:7]\n",
    "    ϕ = qtorp(L(q0)'*q)\n",
    "    r0 = x0[1:3]\n",
    "    v0 = x0[8:10]\n",
    "    ω0 = x0[11:13]\n",
    "    Δx = [x[1:3]-r0; ϕ; x[8:10]-v0; x[11:13]-ω0]\n",
    "#     u = ctrl.Uref[k] - ctrl.K*(x - ctrl.Xref[k])\n",
    "    u = ctrl.Uref[k] - ctrl.K*Δx\n",
    "    return u\n",
    "end\n",
    "\n",
    "\"\"\"\n",
    "    lqr(A,B,Q,R; kwargs...)\n",
    "\n",
    "Calculate the infinite-horizon LQR gain from dynamics Jacobians `A` and `B` and\n",
    "cost matrices `Q` and `R`. Returns the infinite-horizon gain `K` and cost-to-go `P`.\n",
    "\n",
    "# Keyword Arguments\n",
    "* `P`: Provide an initial guess for the infinite-horizon gain\n",
    "* `max_iters`: maximum number of iterations\n",
    "* `tol`: tolerance for solve\n",
    "` `verbose`: print the number of iterations\n",
    "\"\"\"\n",
    "function lqr(A,B,Q,R; P=Matrix(Q), tol=1e-8, max_iters=400, verbose=false)\n",
    "    # initialize the output\n",
    "    n,m = size(B)\n",
    "    K = zeros(m,n)\n",
    "    \n",
    "    # TODO: calculate the infinite-horizon LQR solution\n",
    "\n",
    "    P_vec = [zeros(n,n) for k = 1:max_iters]\n",
    "    K_vec = [zeros(m,n) for k = 1:max_iters-1]\n",
    "    P_vec[end] = Q\n",
    "    for k = reverse(1:max_iters-1) \n",
    "        K_vec[k] .= (R + B'P_vec[k+1]*B)\\(B'P_vec[k+1]*A)\n",
    "        P_vec[k] .= Q + A'P_vec[k+1]*A - A'P_vec[k+1]*B*K_vec[k]\n",
    "    end\n",
    "    \n",
    "    # return the feedback gains and ctg matrices\n",
    "    return K_vec[1],P_vec[1]\n",
    "end"
   ]
  },
  {
   "cell_type": "code",
   "execution_count": 128,
   "id": "6235426c",
   "metadata": {},
   "outputs": [
    {
     "name": "stdout",
     "output_type": "stream",
     "text": [
      "[-1.0324529781524001, 1.5942098985964621, 1.0366424392495, 0.9110143447952838, -0.18176357822921868, 0.23236539137176793, -0.2881339794248078, 0.0, 0.0, 0.0, 0.0, 0.0, 0.0]\n"
     ]
    }
   ],
   "source": [
    "K,Qf = lqr(Ã,B̃,Q,R)\n",
    "# ctrl = LQRController(K,Xref,Uref,tref);\n",
    "ctrl = LQRController(K,Xreport,Ureport,tref);\n",
    "rinit = Xref[1][1:3]\n",
    "qinit = Xref[1][4:7]\n",
    "vinit = Xref[1][8:10]\n",
    "ωinit = Xref[1][11:13]\n",
    "xinit = [rinit+randn(3); L(qinit)*rptoq(0.7*randn(3)); vinit; ωinit];\n",
    "println(xinit)"
   ]
  },
  {
   "cell_type": "code",
   "execution_count": 91,
   "id": "d47ce303",
   "metadata": {},
   "outputs": [],
   "source": [
    "lqr_error_ls = [];"
   ]
  },
  {
   "cell_type": "code",
   "execution_count": 129,
   "id": "e65575c7",
   "metadata": {},
   "outputs": [
    {
     "name": "stdout",
     "output_type": "stream",
     "text": [
      "[-0.05080629190807467, 0.0008391626863310919, -1.0060342915534655, 0.9995697577839568, 0.001190284234571408, -0.0017351464509727979, -0.029255286940251295, -0.1551895295849367, -0.19233776005275396, -0.5941588343960836, -0.0017017035001666732, 0.003945162245022656, 0.029271192493075724]\n",
      "1.0073167224229655\n",
      "Any[0.048129698940060126, 0.14467892099703453, 0.0747515628887346, 0.05385364396996052, 0.08707828982429716, 1.0073167224229655]\n"
     ]
    }
   ],
   "source": [
    "times = thist\n",
    "N = length(thist)\n",
    "Xlqr = [zeros(n) for k = 1:N] \n",
    "Ulqr = [zeros(m) for k = 1:N-1]\n",
    "Xlqr[1] = xinit\n",
    "\n",
    "for k = 1:N-1\n",
    "    Ulqr[k] = get_control(ctrl, Xlqr[k], times[k])\n",
    "    Xlqr[k+1] = quad_dynamics_rk4(Xlqr[k],Ulqr[k])\n",
    "end\n",
    "tlqr = times;\n",
    "lqr_error = norm(Xlqr[end][1:3]-Xref[end][1:3])\n",
    "append!(lqr_error_ls,lqr_error)\n",
    "\n",
    "println(Xlqr[end])\n",
    "println(lqr_error)\n",
    "println(lqr_error_ls)\n",
    "# println(Ulqr[15])"
   ]
  },
  {
   "cell_type": "code",
   "execution_count": 17,
   "id": "74740250",
   "metadata": {
    "scrolled": false
   },
   "outputs": [
    {
     "name": "stderr",
     "output_type": "stream",
     "text": [
      "┌ Info: MeshCat server started. You can open the visualizer by visiting the following URL in your browser:\n",
      "│ http://127.0.0.1:8700\n",
      "└ @ MeshCat C:\\Users\\ASUS\\.julia\\packages\\MeshCat\\GlCMx\\src\\visualizer.jl:73\n"
     ]
    },
    {
     "data": {
      "text/html": [
       "    <div style=\"height: 500px; width: 100%; overflow-x: auto; overflow-y: hidden; resize: both\">\n",
       "    <iframe src=\"http://127.0.0.1:8700\" style=\"width: 100%; height: 100%; border: none\"></iframe>\n",
       "    </div>\n"
      ],
      "text/plain": [
       "MeshCat.DisplayedVisualizer(MeshCat.CoreVisualizer(MeshCat.SceneTrees.SceneNode(nothing, nothing, Dict{String, Vector{UInt8}}(), nothing, Dict{String, MeshCat.SceneTrees.SceneNode}()), Set{Any}(), ip\"127.0.0.1\", 8700))"
      ]
     },
     "execution_count": 17,
     "metadata": {},
     "output_type": "execute_result"
    }
   ],
   "source": [
    "#Set up visualization\n",
    "using TrajOptPlots\n",
    "using MeshCat\n",
    "using StaticArrays\n",
    "using RobotZoo:Quadrotor\n",
    "\n",
    "vis = Visualizer()\n",
    "render(vis)"
   ]
  },
  {
   "cell_type": "code",
   "execution_count": 54,
   "id": "1395001f",
   "metadata": {},
   "outputs": [],
   "source": [
    "model = Quadrotor()\n",
    "TrajOptPlots.set_mesh!(vis, model)\n",
    "Xlqr = SVector{13}.(Xlqr)\n",
    "visualize!(vis, model, tlqr[end], Xlqr)"
   ]
  },
  {
   "cell_type": "code",
   "execution_count": 19,
   "id": "78c90181",
   "metadata": {},
   "outputs": [
    {
     "data": {
      "text/plain": [
       "get_control"
      ]
     },
     "execution_count": 19,
     "metadata": {},
     "output_type": "execute_result"
    }
   ],
   "source": [
    "\"\"\"\n",
    "    MPCController\n",
    "\n",
    "An MPC controller that uses a solver of type `S` to solve a QP at every iteration.\n",
    "\n",
    "It will track the reference trajectory specified by `Xref`, `Uref` and `times` \n",
    "with an MPC horizon of `Nmpc`. It will track the terminal reference state if \n",
    "the horizon extends beyond the reference horizon.\n",
    "\"\"\"\n",
    "struct MPCController{S}\n",
    "    P::SparseMatrixCSC{Float64,Int}\n",
    "    q::Vector{Float64}\n",
    "    A::SparseMatrixCSC{Float64,Int}\n",
    "    lb::Vector{Float64}\n",
    "    ub::Vector{Float64}\n",
    "    Nmpc::Int\n",
    "    solver::S\n",
    "    Xref::Vector{Vector{Float64}}\n",
    "    Uref::Vector{Vector{Float64}}\n",
    "    times::Vector{Float64}\n",
    "end\n",
    "\n",
    "\"\"\"\n",
    "    OSQPController(n,m,N,Nref,Nd)\n",
    "\n",
    "Generate an `MPCController` that uses OSQP to solve the QP.\n",
    "Initializes the controller with matrices consistent with `n` states,\n",
    "`m` controls, and an MPC horizon of `N`, and `Nd` constraints. \n",
    "\n",
    "Use `Nref` to initialize a reference trajectory whose length may differ from the \n",
    "horizon length.\n",
    "\"\"\"\n",
    "function OSQPController(n::Integer, m::Integer, N::Integer, Nref::Integer=N, Nd::Integer=(N-1)*n)\n",
    "    Np = (N-1)*(n+m)   # number of primals\n",
    "    P = spzeros(Np,Np)\n",
    "    q = zeros(Np)\n",
    "    A = spzeros(Nd,Np)\n",
    "    lb = zeros(Nd)\n",
    "    ub = zeros(Nd)\n",
    "    Xref = [zeros(n) for k = 1:Nref]\n",
    "    Uref = [zeros(m) for k = 1:Nref]\n",
    "    tref = zeros(Nref)\n",
    "    solver = OSQP.Model()\n",
    "    MPCController{OSQP.Model}(P,q, A,lb,ub, N, solver, Xref, Uref, tref)\n",
    "end\n",
    "\n",
    "# isconstrained(ctrl::MPCController) = length(ctrl.lb) != (ctrl.Nmpc - 1) * length(ctrl.Xref[1])\n",
    "isconstrained(ctrl::MPCController) = length(ctrl.lb) != (ctrl.Nmpc - 1) * 12\n",
    "\n",
    "\"\"\"\n",
    "    buildQP!(ctrl, A,B,Q,R,Qf; kwargs...)\n",
    "\n",
    "Build the QP matrices `P` and `A` for the MPC problem. Note that these matrices\n",
    "should be constant between MPC iterations.\n",
    "\n",
    "Any keyword arguments will be passed to `initialize_solver!`.\n",
    "\"\"\"\n",
    "function buildQP!(ctrl::MPCController, A,B,Q,R,Qf; kwargs...)\n",
    "    if isconstrained(ctrl)\n",
    "        buildQP_constrained!(ctrl::MPCController, A,B,Q,R,Qf; kwargs...)\n",
    "    else\n",
    "        buildQP_unconstrained!(ctrl::MPCController, A,B,Q,R,Qf; kwargs...)\n",
    "    end\n",
    "end\n",
    "\n",
    "\"\"\"\n",
    "    updateQP!(ctrl::MPCController, x, time)\n",
    "\n",
    "Update the vectors in the QP problem for the current state `x` and time `time`.\n",
    "This should update `ctrl.q`, `ctrl.lb`, and `ctrl.ub`.\n",
    "\"\"\"\n",
    "function updateQP!(ctrl::MPCController, x, time)\n",
    "    if isconstrained(ctrl)\n",
    "        updateQP_constrained!(ctrl, x, time)\n",
    "    else\n",
    "        updateQP_unconstrained!(ctrl, x, time)\n",
    "    end\n",
    "end\n",
    "\n",
    "\n",
    "\"\"\"\n",
    "    initialize_solver!(ctrl::MPCController; kwargs...)\n",
    "\n",
    "Initialize the internal solver once the QP matrices are initialized in the \n",
    "controller.\n",
    "\"\"\"\n",
    "function initialize_solver!(ctrl::MPCController{OSQP.Model}; tol=1e-6, verbose=false)\n",
    "    OSQP.setup!(ctrl.solver, P=ctrl.P, q=ctrl.q, A=ctrl.A, l=ctrl.lb, u=ctrl.ub, \n",
    "        verbose=verbose, eps_rel=tol, eps_abs=tol, polish=1)\n",
    "end\n",
    "\n",
    "\"\"\"\n",
    "    get_control(ctrl::MPCController, x, t)\n",
    "\n",
    "Get the control from the MPC solver by solving the QP. \n",
    "If you want to use your own QP solver, you'll need to change this\n",
    "method.\n",
    "\"\"\"\n",
    "function get_control(ctrl::MPCController{OSQP.Model}, x, time)\n",
    "    # Update the QP\n",
    "    updateQP!(ctrl, x, time)\n",
    "    OSQP.update!(ctrl.solver, q=ctrl.q, l=ctrl.lb, u=ctrl.ub)\n",
    "\n",
    "    # Solve QP\n",
    "    results = OSQP.solve!(ctrl.solver)\n",
    "#     Δu = results.x[1:2]\n",
    "    Δu = results.x[1:4]\n",
    "    \n",
    "    k = get_k(ctrl, time)\n",
    "    return ctrl.Uref[k] + Δu \n",
    "end"
   ]
  },
  {
   "cell_type": "code",
   "execution_count": 20,
   "id": "81be515a",
   "metadata": {},
   "outputs": [
    {
     "data": {
      "text/plain": [
       "updateQP_unconstrained! (generic function with 1 method)"
      ]
     },
     "execution_count": 20,
     "metadata": {},
     "output_type": "execute_result"
    }
   ],
   "source": [
    "function buildQP_unconstrained!(ctrl::MPCController, A,B,Q,R,Qf; kwargs...)\n",
    "     # TODO: Implement this method to build the QP matrices\n",
    "    \n",
    "    # SOLUTION:\n",
    "    Nt = ctrl.Nmpc-1\n",
    "#     Nx = length(ctrl.Xref[1])    # number of states\n",
    "    Nx = 12\n",
    "    Nu = length(ctrl.Uref[1])    # number of controls\n",
    "    \n",
    "    H = sparse([kron(Diagonal(I,Nt-1),[R zeros(Nu,Nx); zeros(Nx,Nu) Q]) zeros((Nx+Nu)*(Nt-1), Nx+Nu); zeros(Nx+Nu,(Nx+Nu)*(Nt-1)) [R zeros(Nu,Nx); zeros(Nx,Nu) Qf]])\n",
    "    C = sparse([\n",
    "            [B -I zeros(Nx,(Nt-1)*(Nu+Nx))]; \n",
    "            zeros(Nx*(Nt-1),Nu) [kron(Diagonal(I,Nt-1), [A B]) zeros((Nt-1)*Nx,Nx)] + [zeros((Nt-1)*Nx,Nx) kron(Diagonal(I,Nt-1),[zeros(Nx,Nu) Diagonal(-I,Nx)])]\n",
    "    ])\n",
    "    lb = zeros(Nx*Nt)\n",
    "    ub = zeros(Nx*Nt)\n",
    "    \n",
    "    Nd = length(ctrl.lb)\n",
    "    if Nd == Nt*n\n",
    "        D = C\n",
    "        ub = zero(ctrl.ub)\n",
    "        lb = zero(ctrl.lb)\n",
    "    end\n",
    "    \n",
    "    ctrl.P .= H\n",
    "    ctrl.A .= C\n",
    "    ctrl.ub .= ub\n",
    "    ctrl.lb .= lb\n",
    "    \n",
    "    # Initialize the included solver\n",
    "    #    If you want to use your QP solver, you should write your own\n",
    "    #    method for this function\n",
    "    initialize_solver!(ctrl; kwargs...)\n",
    "    return nothing\n",
    "end\n",
    "\n",
    "# x diff helper function\n",
    "function x_diff(x,x0)\n",
    "    q0 = x0[4:7]\n",
    "    q = x[4:7]\n",
    "    ϕ = qtorp(L(q0)'*q)\n",
    "    r0 = x0[1:3]\n",
    "    v0 = x0[8:10]\n",
    "    ω0 = x0[11:13]\n",
    "    Δx = [x[1:3]-r0; ϕ; x[8:10]-v0; x[11:13]-ω0]\n",
    "    return Δx\n",
    "end\n",
    "\n",
    "\n",
    "function updateQP_unconstrained!(ctrl::MPCController, x, time)\n",
    "    # TODO: Implement this method\n",
    "    \n",
    "    # SOLUTION\n",
    "    t = get_k(ctrl, time)\n",
    "    \n",
    "    Nt = ctrl.Nmpc-1             # horizon\n",
    "#     Nx = length(ctrl.Xref[1])    # number of states\n",
    "    Nx = 12\n",
    "    Nu = length(ctrl.Uref[1])    # number of controls\n",
    "    \n",
    "    # Update QP problem\n",
    "    b = ctrl.q\n",
    "    lb = ctrl.lb\n",
    "    ub = ctrl.ub\n",
    "    xref = ctrl.Xref\n",
    "#     xeq = Xref[end]\n",
    "    xeq = x0\n",
    "    N = length(ctrl.Xref)\n",
    "    for t_h = 1:(Nt-1)\n",
    "        if (t+t_h) <= N\n",
    "            Δx = x_diff(xref[t+t_h],xeq)\n",
    "#             b[(Nu+(t_h-1)*(Nx+Nu)).+(1:Nx)] .= -Q*(xref[t+t_h] - xeq)\n",
    "            b[(Nu+(t_h-1)*(Nx+Nu)).+(1:Nx)] .= -Q*Δx\n",
    "        else\n",
    "            Δx = x_diff(xref[end],xeq)\n",
    "#             b[(Nu+(t_h-1)*(Nx+Nu)).+(1:Nx)] .= -Q*(xref[end] - xeq)\n",
    "            b[(Nu+(t_h-1)*(Nx+Nu)).+(1:Nx)] .= -Q*Δx\n",
    "        end\n",
    "    end\n",
    "    if (t+Nt) <= N\n",
    "        Δx = x_diff(xref[t+Nt],xeq)\n",
    "#         b[(Nu+(Nt-1)*(Nx+Nu)).+(1:Nx)] .= -Qf*(xref[t+Nt] - xeq)\n",
    "        b[(Nu+(Nt-1)*(Nx+Nu)).+(1:Nx)] .= -Qf*Δx\n",
    "    else\n",
    "        Δx = x_diff(xref[end],xeq)\n",
    "#         b[(Nu+(Nt-1)*(Nx+Nu)).+(1:Nx)] .= -Qf*(xref[end] - xeq)\n",
    "        b[(Nu+(Nt-1)*(Nx+Nu)).+(1:Nx)] .= -Qf*Δx\n",
    "    end\n",
    "    \n",
    "    # Update the initial condition\n",
    "#     lb[1:Nx] .= -A*(x - xeq)\n",
    "    lb[1:Nx] .= -Ã*x_diff(x,xeq)\n",
    "#     ub[1:Nx] .= -A*(x - xeq)\n",
    "    ub[1:Nx] .= -Ã*x_diff(x,xeq)\n",
    "    \n",
    "    return nothing\n",
    "end"
   ]
  },
  {
   "cell_type": "code",
   "execution_count": 130,
   "id": "27412244",
   "metadata": {},
   "outputs": [],
   "source": [
    "# Initialize the unconstrained MPC problem\n",
    "Nmpc = 51           # MPC Horizon\n",
    "mpc1 = OSQPController(n, m, Nmpc, length(Xref))\n",
    "\n",
    "# Provide the reference trajectory\n",
    "# mpc1.Xref .= Xref\n",
    "# mpc1.Uref .= Uref\n",
    "mpc1.Xref .= Xreport\n",
    "mpc1.Uref .= Ureport\n",
    "mpc1.times .= tref\n",
    "\n",
    "# Build the sparse QP matrices\n",
    "buildQP!(mpc1, Ã,B̃,Q,R,Qf, tol=1e-2)"
   ]
  },
  {
   "cell_type": "code",
   "execution_count": 96,
   "id": "bbeaee2a",
   "metadata": {},
   "outputs": [],
   "source": [
    "mpc_error_ls =[];"
   ]
  },
  {
   "cell_type": "code",
   "execution_count": 131,
   "id": "3b822e32",
   "metadata": {},
   "outputs": [
    {
     "name": "stdout",
     "output_type": "stream",
     "text": [
      "[-0.02835072153667468, 0.01936777478740339, -0.9814872304026945, 0.9994939778404518, -0.009339221441221415, 0.009061189755561106, -0.02902519670486455, -0.04746175538312353, -0.08170980344128345, -0.21131526204265183, 0.0009480923343407853, -0.0010780036948591538, 0.029042974331561885]\n",
      "Any[0.056569766703853684, 0.1327310799497157, 0.0579538928342695, 0.06970662736417468, 0.09447683941564115, 0.9820876017725799]\n"
     ]
    }
   ],
   "source": [
    "times = thist\n",
    "N = length(thist)\n",
    "Xmpc = [zeros(n) for k = 1:N] \n",
    "Umpc = [zeros(m) for k = 1:N-1]\n",
    "Xmpc[1] = xinit\n",
    "tmpc1 = times\n",
    "\n",
    "for k = 1:N-1\n",
    "    Umpc[k] = get_control(mpc1, Xmpc[k], times[k])\n",
    "    Xmpc[k+1] = quad_dynamics_rk4(Xmpc[k],Umpc[k])\n",
    "end\n",
    "mpc_error = norm(Xmpc[end][1:3]-Xref[end][1:3])\n",
    "append!(mpc_error_ls,mpc_error)\n",
    "println(Xmpc[end])\n",
    "println(mpc_error_ls)"
   ]
  },
  {
   "cell_type": "code",
   "execution_count": 126,
   "id": "0adeb8c8",
   "metadata": {},
   "outputs": [],
   "source": [
    "x_axis = 1:5\n",
    "plot(x_axis,lqr_error_ls)\n",
    "plot!(x_axis,mpc_error_ls)\n",
    "plot!(title=\"error comparison\")\n",
    "xlabel!(\"random start point\")\n",
    "ylabel!(\"error\")\n",
    "savefig(\"error_comparison.png\")\n",
    "# println(x_axis)"
   ]
  },
  {
   "cell_type": "code",
   "execution_count": 135,
   "id": "f06f1a75",
   "metadata": {},
   "outputs": [
    {
     "data": {
      "text/html": [
       "    <div style=\"height: 500px; width: 100%; overflow-x: auto; overflow-y: hidden; resize: both\">\n",
       "    <iframe src=\"http://127.0.0.1:8700\" style=\"width: 100%; height: 100%; border: none\"></iframe>\n",
       "    </div>\n"
      ],
      "text/plain": [
       "MeshCat.DisplayedVisualizer(MeshCat.CoreVisualizer(MeshCat.SceneTrees.SceneNode(nothing, nothing, Dict{String, Vector{UInt8}}(), UInt8[0x83, 0xa7, 0x6f, 0x70, 0x74, 0x69, 0x6f, 0x6e, 0x73, 0x82  …  0x5f, 0x61, 0x6e, 0x69, 0x6d, 0x61, 0x74, 0x69, 0x6f, 0x6e], Dict{String, MeshCat.SceneTrees.SceneNode}(\"meshcat\" => MeshCat.SceneTrees.SceneNode(nothing, nothing, Dict{String, Vector{UInt8}}(), nothing, Dict{String, MeshCat.SceneTrees.SceneNode}(\"robot\" => MeshCat.SceneTrees.SceneNode(nothing, nothing, Dict{String, Vector{UInt8}}(), nothing, Dict{String, MeshCat.SceneTrees.SceneNode}(\"geom\" => MeshCat.SceneTrees.SceneNode(UInt8[0x83, 0xa6, 0x6f, 0x62, 0x6a, 0x65, 0x63, 0x74, 0x84, 0xaa  …  0x72, 0x6f, 0x62, 0x6f, 0x74, 0x2f, 0x67, 0x65, 0x6f, 0x6d], nothing, Dict{String, Vector{UInt8}}(), nothing, Dict{String, MeshCat.SceneTrees.SceneNode}()))))))), Set(Any[WebSocket(server, \u001b[32mCONNECTED\u001b[39m), WebSocket(server, \u001b[32mCONNECTED\u001b[39m), WebSocket(server, \u001b[32mCONNECTED\u001b[39m), WebSocket(server, \u001b[32mCONNECTED\u001b[39m), WebSocket(server, \u001b[32mCONNECTED\u001b[39m), WebSocket(server, \u001b[32mCONNECTED\u001b[39m), WebSocket(server, \u001b[32mCONNECTED\u001b[39m), WebSocket(server, \u001b[32mCONNECTED\u001b[39m)]), ip\"127.0.0.1\", 8700))"
      ]
     },
     "execution_count": 135,
     "metadata": {},
     "output_type": "execute_result"
    }
   ],
   "source": [
    "render(vis)"
   ]
  },
  {
   "cell_type": "code",
   "execution_count": 136,
   "id": "309823e2",
   "metadata": {},
   "outputs": [],
   "source": [
    "Xmpc = SVector{13}.(Xmpc)\n",
    "visualize!(vis, model, tmpc1[end] / 10, Xmpc)"
   ]
  },
  {
   "cell_type": "code",
   "execution_count": 82,
   "id": "3d06c37b",
   "metadata": {},
   "outputs": [
    {
     "data": {
      "text/plain": [
       "updateQP_constrained!"
      ]
     },
     "execution_count": 82,
     "metadata": {},
     "output_type": "execute_result"
    }
   ],
   "source": [
    "function buildQP_constrained!(ctrl::MPCController, A,B,Q,R,Qf; kwargs...)\n",
    "    # TODO: Implement this method to build the QP matrices\n",
    "    \n",
    "    # SOLUTION:\n",
    "    Nt = ctrl.Nmpc-1\n",
    "#     Nx = length(ctrl.Xref[1])    # number of states\n",
    "    Nx = 12\n",
    "    Nu = length(ctrl.Uref[1])    # number of controls\n",
    "\n",
    "#     max_roll = deg2rad(model.max_roll)\n",
    "#     xeq = Xref[end]\n",
    "    xeq = x0\n",
    "#     aeq = xeq[7:8]  # actuators\n",
    "    aeq = uhover\n",
    "    \n",
    "    H = sparse([kron(Diagonal(I,Nt-1),[R zeros(Nu,Nx); zeros(Nx,Nu) Q]) zeros((Nx+Nu)*(Nt-1), Nx+Nu); zeros(Nx+Nu,(Nx+Nu)*(Nt-1)) [R zeros(Nu,Nx); zeros(Nx,Nu) Qf]])\n",
    "    b = zeros(Nt*(Nx+Nu))\n",
    "    C = sparse([\n",
    "            [B -I zeros(Nx,(Nt-1)*(Nu+Nx))]; \n",
    "            zeros(Nx*(Nt-1),Nu) [kron(Diagonal(I,Nt-1), [A B]) zeros((Nt-1)*Nx,Nx)] + [zeros((Nt-1)*Nx,Nx) kron(Diagonal(I,Nt-1),[zeros(Nx,Nu) Diagonal(-I,Nx)])]\n",
    "    ])\n",
    "#     Z = kron(Diagonal(I,Nt), [0 0 0 1 0 0 0 0 0 0]) #Matrix that picks out all x2 (height)\n",
    "#     Θ = kron(Diagonal(I,Nt), [0 0 0 0 1 0 0 0 0 0]) #Matrix that picks out all x3 (θ)\n",
    "    Z = kron(Diagonal(I,Nt), [0 0 0 0 0 0 1 0 0 0 0 0 0 0 0 0])\n",
    "#     Θ = kron(Diagonal(I,Nt), [0 0 0 0 0 0 1 0 0 0 0 0 0 0 0 0])\n",
    "    U = kron(Diagonal(I,Nt), [I zeros(Nu,Nx)]) #Matrix that picks out all u\n",
    "#     D = [C; Z; Θ; U]\n",
    "#     println(size(ctrl.A))\n",
    "#     D = [C;Z;U]\n",
    "    D = [C;Z]\n",
    "#     println(size(D))\n",
    "    \n",
    "#     umin = RobotZoo.umin(model)\n",
    "#     umax = RobotZoo.umax(model)\n",
    "    umin = -2.5*ones(Nu)\n",
    "    umax = 2.5*ones(Nu)\n",
    "#     lb = [zeros(Nx*Nt); zeros(Nt); -Inf*ones(Nt); kron(ones(Nt),umin-aeq)]\n",
    "#     lb = [zeros(Nx*Nt);zeros(Nt)]\n",
    "    lb = [zeros(Nx*Nt);zeros(Nt)]\n",
    "#     ub = [zeros(Nx*Nt); Inf*ones(Nt); Inf*ones(Nt); kron(ones(Nt),umax-aeq)]\n",
    "    ub = [zeros(Nx*Nt);100*ones(Nt)]\n",
    "    \n",
    "    Nd = length(ctrl.lb)\n",
    "    if Nd == Nt*n\n",
    "        D = C\n",
    "        ub = zero(ctrl.ub)\n",
    "        lb = zero(ctrl.lb)\n",
    "    end\n",
    "    lb = lb[1:Nd]\n",
    "    ub = ub[1:Nd]\n",
    "    \n",
    "    ctrl.P .= H\n",
    "    ctrl.A .= D\n",
    "    ctrl.ub .= ub\n",
    "    ctrl.lb .= lb\n",
    "    \n",
    "    # Initialize the included solver\n",
    "    #    If you want to use your QP solver, you should write your own\n",
    "    #    method for this function\n",
    "    initialize_solver!(ctrl; kwargs...)\n",
    "    return nothing\n",
    "end\n",
    "\n",
    "\"\"\"\n",
    "    update_QP!(ctrl::MPCController, x, time)\n",
    "\n",
    "Update the vectors in the QP problem for the current state `x` and time `time`.\n",
    "This should update `ctrl.q`, `ctrl.lb`, and `ctrl.ub`.\n",
    "\"\"\"\n",
    "function updateQP_constrained!(ctrl::MPCController, x, time)\n",
    "    # TODO: Implement this method\n",
    "    \n",
    "    # SOLUTION\n",
    "    t = get_k(ctrl, time)\n",
    "    \n",
    "    Nt = ctrl.Nmpc-1             # horizon\n",
    "#     Nx = length(ctrl.Xref[1])    # number of states\n",
    "    Nx = 12\n",
    "    Nu = length(ctrl.Uref[1])    # number of controls\n",
    "    \n",
    "    # Update QP problem\n",
    "    b = ctrl.q\n",
    "    lb = ctrl.lb\n",
    "    ub = ctrl.ub\n",
    "    xref = ctrl.Xref\n",
    "#     xeq = Xref[end]\n",
    "    xeq = x0\n",
    "    N = length(ctrl.Xref)\n",
    "    for t_h = 1:(Nt-1)\n",
    "        if (t+t_h) <= N\n",
    "            Δx = x_diff(xref[t+t_h],xeq)\n",
    "#             b[(Nu+(t_h-1)*(Nx+Nu)).+(1:Nx)] .= -Q*(xref[t+t_h] - xeq)\n",
    "            b[(Nu+(t_h-1)*(Nx+Nu)).+(1:Nx)] .= -Q*Δx\n",
    "        else\n",
    "            Δx = x_diff(xref[end],xeq)\n",
    "#             b[(Nu+(t_h-1)*(Nx+Nu)).+(1:Nx)] .= -Q*(xref[end] - xeq)\n",
    "            b[(Nu+(t_h-1)*(Nx+Nu)).+(1:Nx)] .= -Q*Δx\n",
    "        end\n",
    "    end\n",
    "    if (t+Nt) <= N\n",
    "        Δx = x_diff(xref[t+Nt],xeq)\n",
    "#         b[(Nu+(Nt-1)*(Nx+Nu)).+(1:Nx)] .= -Qf*(xref[t+Nt] - xeq)\n",
    "        b[(Nu+(Nt-1)*(Nx+Nu)).+(1:Nx)] .= -Qf*Δx\n",
    "    else\n",
    "        Δx = x_diff(xref[end],xeq)\n",
    "#         b[(Nu+(Nt-1)*(Nx+Nu)).+(1:Nx)] .= -Qf*(xref[end] - xeq)\n",
    "        b[(Nu+(Nt-1)*(Nx+Nu)).+(1:Nx)] .= -Qf*Δx\n",
    "    end\n",
    "    \n",
    "    # Update the initial condition\n",
    "#     lb[1:Nx] .= -A*(x - xeq)\n",
    "    lb[1:Nx] .= -Ã*x_diff(x,xeq)\n",
    "#     ub[1:Nx] .= -A*(x - xeq)\n",
    "    ub[1:Nx] .= -Ã*x_diff(x,xeq)\n",
    "\n",
    "    return nothing\n",
    "end"
   ]
  },
  {
   "cell_type": "code",
   "execution_count": 137,
   "id": "dd6d021e",
   "metadata": {},
   "outputs": [],
   "source": [
    "Nd = (Nmpc-1)*(n+1)\n",
    "mpc2 = OSQPController(n, m, Nmpc, length(Xref), Nd)\n",
    "# mpc2.Xref .= Xref\n",
    "# mpc2.Uref .= Uref\n",
    "mpc2.Xref .= Xreport\n",
    "mpc2.Uref .= Ureport\n",
    "mpc2.times .= tref\n",
    "buildQP!(mpc2, Ã,B̃,Q,R,Qf, tol=1e-2, verbose=false);"
   ]
  },
  {
   "cell_type": "code",
   "execution_count": 138,
   "id": "fdb306a8",
   "metadata": {},
   "outputs": [
    {
     "name": "stdout",
     "output_type": "stream",
     "text": [
      "[-0.03734945070286743, 0.021540313500375274, 0.9995456165956681, 0.9994682259849553, -0.010423920326115785, 0.009954254256972314, -0.029249272703930528, -0.04650820389656724, -0.08998335961279733, 0.02370020101335866, 0.0025636029722450014, -0.0029456369862365193, 0.02926796497045501]\n"
     ]
    }
   ],
   "source": [
    "times2 = thist\n",
    "N = length(thist)\n",
    "Xmpc2 = [zeros(n) for k = 1:N] \n",
    "Umpc2 = [zeros(m) for k = 1:N-1]\n",
    "Xmpc2[1] = xinit\n",
    "tmpc2 = times\n",
    "\n",
    "for k = 1:N-1\n",
    "    Umpc2[k] = get_control(mpc2, Xmpc2[k], times2[k])\n",
    "    Xmpc2[k+1] = quad_dynamics_rk4(Xmpc2[k],Umpc2[k])\n",
    "end\n",
    "println(Xmpc2[end])"
   ]
  },
  {
   "cell_type": "code",
   "execution_count": 139,
   "id": "ff51aa78",
   "metadata": {},
   "outputs": [
    {
     "data": {
      "text/html": [
       "    <div style=\"height: 500px; width: 100%; overflow-x: auto; overflow-y: hidden; resize: both\">\n",
       "    <iframe src=\"http://127.0.0.1:8700\" style=\"width: 100%; height: 100%; border: none\"></iframe>\n",
       "    </div>\n"
      ],
      "text/plain": [
       "MeshCat.DisplayedVisualizer(MeshCat.CoreVisualizer(MeshCat.SceneTrees.SceneNode(nothing, nothing, Dict{String, Vector{UInt8}}(), UInt8[0x83, 0xa7, 0x6f, 0x70, 0x74, 0x69, 0x6f, 0x6e, 0x73, 0x82  …  0x5f, 0x61, 0x6e, 0x69, 0x6d, 0x61, 0x74, 0x69, 0x6f, 0x6e], Dict{String, MeshCat.SceneTrees.SceneNode}(\"meshcat\" => MeshCat.SceneTrees.SceneNode(nothing, nothing, Dict{String, Vector{UInt8}}(), nothing, Dict{String, MeshCat.SceneTrees.SceneNode}(\"robot\" => MeshCat.SceneTrees.SceneNode(nothing, nothing, Dict{String, Vector{UInt8}}(), nothing, Dict{String, MeshCat.SceneTrees.SceneNode}(\"geom\" => MeshCat.SceneTrees.SceneNode(UInt8[0x83, 0xa6, 0x6f, 0x62, 0x6a, 0x65, 0x63, 0x74, 0x84, 0xaa  …  0x72, 0x6f, 0x62, 0x6f, 0x74, 0x2f, 0x67, 0x65, 0x6f, 0x6d], nothing, Dict{String, Vector{UInt8}}(), nothing, Dict{String, MeshCat.SceneTrees.SceneNode}()))))))), Set(Any[WebSocket(server, \u001b[32mCONNECTED\u001b[39m), WebSocket(server, \u001b[32mCONNECTED\u001b[39m), WebSocket(server, \u001b[32mCONNECTED\u001b[39m), WebSocket(server, \u001b[32mCONNECTED\u001b[39m), WebSocket(server, \u001b[32mCONNECTED\u001b[39m), WebSocket(server, \u001b[32mCONNECTED\u001b[39m), WebSocket(server, \u001b[32mCONNECTED\u001b[39m), WebSocket(server, \u001b[32mCONNECTED\u001b[39m), WebSocket(server, \u001b[32mCONNECTED\u001b[39m)]), ip\"127.0.0.1\", 8700))"
      ]
     },
     "execution_count": 139,
     "metadata": {},
     "output_type": "execute_result"
    }
   ],
   "source": [
    "render(vis)"
   ]
  },
  {
   "cell_type": "code",
   "execution_count": 140,
   "id": "74e2ea08",
   "metadata": {},
   "outputs": [],
   "source": [
    "Xmpc2 = SVector{13}.(Xmpc2)\n",
    "visualize!(vis, model, tmpc2[end] / 10, Xmpc2)"
   ]
  },
  {
   "cell_type": "code",
   "execution_count": null,
   "id": "001a93bb",
   "metadata": {},
   "outputs": [],
   "source": []
  }
 ],
 "metadata": {
  "kernelspec": {
   "display_name": "Julia 1.6.5",
   "language": "julia",
   "name": "julia-1.6"
  },
  "language_info": {
   "file_extension": ".jl",
   "mimetype": "application/julia",
   "name": "julia",
   "version": "1.6.5"
  }
 },
 "nbformat": 4,
 "nbformat_minor": 5
}
